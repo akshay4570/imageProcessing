{
 "cells": [
  {
   "cell_type": "code",
   "execution_count": 2,
   "metadata": {},
   "outputs": [],
   "source": [
    "#Importing the libraries\n",
    "import cv2\n",
    "import numpy as np"
   ]
  },
  {
   "cell_type": "code",
   "execution_count": 7,
   "metadata": {},
   "outputs": [],
   "source": [
    "#Reading the image\n",
    "img = cv2.imread(\"image.png\",0)"
   ]
  },
  {
   "cell_type": "code",
   "execution_count": 4,
   "metadata": {},
   "outputs": [],
   "source": [
    "#Apply Gausian blurr with Kernel size 7 to remov noise\n",
    "blurred_image = cv2.GaussianBlur(img,(7,7),0)"
   ]
  },
  {
   "cell_type": "code",
   "execution_count": 9,
   "metadata": {},
   "outputs": [],
   "source": [
    "#Apply Otsus thresholding to binarize image\n",
    "retval ,binarized_image = cv2.threshold(blurred_image,40,255,cv2.THRESH_BINARY)"
   ]
  },
  {
   "cell_type": "code",
   "execution_count": 17,
   "metadata": {},
   "outputs": [],
   "source": [
    "# Applying Closing to fill in the holes\n",
    "filter = np.ones((3,3),np.uint8)\n",
    "closed_image = cv2.morphologyEx(binarized_image, cv2.MORPH_CLOSE, filter)"
   ]
  },
  {
   "cell_type": "code",
   "execution_count": 19,
   "metadata": {},
   "outputs": [],
   "source": [
    "# Using connected components to label the image\n",
    "retval, markers = cv2.connectedComponents(closed_image)"
   ]
  },
  {
   "cell_type": "code",
   "execution_count": 20,
   "metadata": {},
   "outputs": [],
   "source": [
    "# Mapping the component labels to hue val\n",
    "label_hue = np.uint8(120*markers/np.max(markers))\n",
    "blank_ch = 255*np.ones_like(label_hue)\n",
    "labeled_image = cv2.merge([label_hue, blank_ch, blank_ch])"
   ]
  },
  {
   "cell_type": "code",
   "execution_count": 22,
   "metadata": {},
   "outputs": [],
   "source": [
    "# changing from HSV to RGB again to show\n",
    "labeled_image = cv2.cvtColor(labeled_image, cv2.COLOR_HSV2BGR)"
   ]
  },
  {
   "cell_type": "code",
   "execution_count": 24,
   "metadata": {},
   "outputs": [],
   "source": [
    "# background label set to black\n",
    "labeled_image[label_hue==0] = 0"
   ]
  },
  {
   "cell_type": "code",
   "execution_count": 26,
   "metadata": {},
   "outputs": [],
   "source": [
    "# getting the unique colors in the image\n",
    "unique_colors = np.unique(labeled_image.reshape(-1, labeled_image.shape[2]), axis=0)"
   ]
  },
  {
   "cell_type": "code",
   "execution_count": 31,
   "metadata": {},
   "outputs": [
    {
     "name": "stdout",
     "output_type": "stream",
     "text": [
      "Colors available in labeled image:\n",
      "1=> B:0    G:0   R:0 \n",
      "2=> B:0    G:255   R:0 \n",
      "3=> B:255    G:0   R:0 \n",
      "\n",
      "Select one of the colors and give its RGB values \n",
      "B : 0\n",
      "G : 255\n",
      "R : 0\n"
     ]
    }
   ],
   "source": [
    "print(\"Colors available in labeled image:\")\n",
    "for x in range(unique_colors.shape[0]):\n",
    "    print(str(x+1)+\"=> B:\"+str(unique_colors[x,0])+\"    G:\"+str(unique_colors[x,1])+\"   R:\"+str(unique_colors[x,2])+\" \")\n",
    "\n",
    "print (\"\\nSelect one of the colors and give its RGB values \")\n",
    "\n",
    "r = input(\"B : \")\n",
    "g = input(\"G : \")\n",
    "b = input(\"R : \")\n"
   ]
  },
  {
   "cell_type": "code",
   "execution_count": 32,
   "metadata": {},
   "outputs": [],
   "source": [
    "# making an output image\n",
    "output_image = np.zeros_like(labeled_image)"
   ]
  },
  {
   "cell_type": "code",
   "execution_count": 34,
   "metadata": {},
   "outputs": [
    {
     "data": {
      "text/plain": [
       "27"
      ]
     },
     "execution_count": 34,
     "metadata": {},
     "output_type": "execute_result"
    }
   ],
   "source": [
    "# getting the object of user input color\n",
    "for x in range(labeled_image.shape[0]):\n",
    "    for y in range(labeled_image.shape[1]):\n",
    "        if (labeled_image[x,y,0] == int(r) and labeled_image[x,y,1] == int(g) and labeled_image[x,y,2] == int(b)):\n",
    "            output_image[x,y,0:3] = labeled_image[x,y,0:3]\n",
    "\n",
    "# show the output image\n",
    "cv2.imshow(\"Selected\", labeled_image)\n",
    "cv2.waitKey(0)\n",
    "cv2.destroyAllWindows()"
   ]
  },
  {
   "cell_type": "code",
   "execution_count": null,
   "metadata": {},
   "outputs": [],
   "source": [
    "#For Testing pupose for each operation we can use\n",
    "# cv2.imshow(\"Selected\", labeled_image)\n",
    "# cv2.waitKey(0)\n",
    "# cv2.destroyAllWindows()"
   ]
  }
 ],
 "metadata": {
  "kernelspec": {
   "display_name": "Python 3",
   "language": "python",
   "name": "python3"
  },
  "language_info": {
   "codemirror_mode": {
    "name": "ipython",
    "version": 3
   },
   "file_extension": ".py",
   "mimetype": "text/x-python",
   "name": "python",
   "nbconvert_exporter": "python",
   "pygments_lexer": "ipython3",
   "version": "3.6.4"
  }
 },
 "nbformat": 4,
 "nbformat_minor": 2
}

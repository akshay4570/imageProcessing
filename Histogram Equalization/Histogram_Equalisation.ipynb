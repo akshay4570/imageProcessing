{
 "cells": [
  {
   "cell_type": "code",
   "execution_count": 1,
   "metadata": {},
   "outputs": [],
   "source": [
    "from PIL import Image\n",
    "import matplotlib.pyplot as plt\n",
    "import cv2\n",
    "import numpy as np"
   ]
  },
  {
   "cell_type": "code",
   "execution_count": 2,
   "metadata": {},
   "outputs": [],
   "source": [
    "img = cv2.imread('hist2.tif',0)"
   ]
  },
  {
   "cell_type": "code",
   "execution_count": 3,
   "metadata": {},
   "outputs": [],
   "source": [
    "intensity_count = [0] * 256"
   ]
  },
  {
   "cell_type": "code",
   "execution_count": 4,
   "metadata": {},
   "outputs": [],
   "source": [
    "height,width = img.shape[:2]        \n",
    "N = height * width "
   ]
  },
  {
   "cell_type": "code",
   "execution_count": 5,
   "metadata": {},
   "outputs": [],
   "source": [
    "high_contrast = np.zeros(img.shape) "
   ]
  },
  {
   "cell_type": "code",
   "execution_count": 6,
   "metadata": {},
   "outputs": [],
   "source": [
    "for i in range(0,height):\n",
    "    for j in range(0,width):\n",
    "        intensity_count[img[i][j]] += 1 "
   ]
  },
  {
   "cell_type": "code",
   "execution_count": 7,
   "metadata": {},
   "outputs": [],
   "source": [
    "L = 256\n",
    "\n",
    "intensity_count,total_values_used = np.histogram(img.flatten(),L,[0,L])      \n",
    "pdf_list = np.ceil(intensity_count*(L-1)/img.size)                    \n",
    "cdf_list = pdf_list.cumsum()  "
   ]
  },
  {
   "cell_type": "code",
   "execution_count": 8,
   "metadata": {},
   "outputs": [],
   "source": [
    "for y in range(0, height):\n",
    "    for x in range(0, width): \n",
    "        #Apply the new intensities in/our new image\n",
    "        high_contrast[y,x] = cdf_list[img[y,x]] "
   ]
  },
  {
   "cell_type": "code",
   "execution_count": 9,
   "metadata": {},
   "outputs": [
    {
     "data": {
      "image/png": "[encoded data removed]",
      "text/plain": [
       "<Figure size 432x288 with 1 Axes>"
      ]
     },
     "metadata": {},
     "output_type": "display_data"
    },
    {
     "data": {
      "image/png": "[encoded data removed]",
      "text/plain": [
       "<Figure size 432x288 with 1 Axes>"
      ]
     },
     "metadata": {},
     "output_type": "display_data"
    }
   ],
   "source": [
    "cv2.imwrite('high_contrast.png', high_contrast)                         \n",
    "plt.hist(img.ravel(),256,[0,256])\n",
    "plt.xlabel('Intensity Values')\n",
    "plt.ylabel('Pixel Count')\n",
    "plt.show()\n",
    "\n",
    "plt.hist(high_contrast.ravel(),256,[0,256])\t\n",
    "plt.xlabel('Intensity Values')\n",
    "plt.ylabel('Pixel Count')\n",
    "plt.show()\n"
   ]
  },
  {
   "cell_type": "code",
   "execution_count": 17,
   "metadata": {},
   "outputs": [],
   "source": [
    "#Displaying the Images\n",
    "img = cv2.imread('hist2.tif',0)\n",
    "cv2.imshow('Actual Image',img)\n",
    "cv2.waitKey(0)\n",
    "# cv2.destroyAllWindows()\n",
    "\n",
    "#Display High Contrast Images\n",
    "img = cv2.imread('high_contrast.png')\n",
    "cv2.imshow('High Contrast Image',img)\n",
    "cv2.waitKey(0)\n",
    "cv2.destroyAllWindows()"
   ]
  },
  {
   "cell_type": "code",
   "execution_count": null,
   "metadata": {},
   "outputs": [],
   "source": []
  }
 ],
 "metadata": {
  "kernelspec": {
   "display_name": "Python 3",
   "language": "python",
   "name": "python3"
  },
  "language_info": {
   "codemirror_mode": {
    "name": "ipython",
    "version": 3
   },
   "file_extension": ".py",
   "mimetype": "text/x-python",
   "name": "python",
   "nbconvert_exporter": "python",
   "pygments_lexer": "ipython3",
   "version": "3.6.4"
  }
 },
 "nbformat": 4,
 "nbformat_minor": 2
}
